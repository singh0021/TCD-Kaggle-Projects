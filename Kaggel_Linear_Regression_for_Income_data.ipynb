{
  "nbformat": 4,
  "nbformat_minor": 0,
  "metadata": {
    "kernelspec": {
      "name": "python3",
      "display_name": "Python 3"
    },
    "language_info": {
      "codemirror_mode": {
        "name": "ipython",
        "version": 3
      },
      "file_extension": ".py",
      "mimetype": "text/x-python",
      "name": "python",
      "nbconvert_exporter": "python",
      "pygments_lexer": "ipython3",
      "version": "3.5.6"
    },
    "colab": {
      "name": "Kaggel Linear Regression for Income data.ipynb",
      "provenance": [],
      "include_colab_link": true
    },
    "accelerator": "TPU"
  },
  "cells": [
    {
      "cell_type": "markdown",
      "metadata": {
        "id": "view-in-github",
        "colab_type": "text"
      },
      "source": [
        "<a href=\"https://colab.research.google.com/github/singh0021/TCD-Kaggle-Projects/blob/master/Kaggel_Linear_Regression_for_Income_data.ipynb\" target=\"_parent\"><img src=\"https://colab.research.google.com/assets/colab-badge.svg\" alt=\"Open In Colab\"/></a>"
      ]
    },
    {
      "cell_type": "markdown",
      "metadata": {
        "id": "fruuijKPVrXs",
        "colab_type": "text"
      },
      "source": [
        "#I have built various model and tried various approaches. This notebook is specific to final solution. If anyone interested to know other approaches and visualization techniques. Please refer to other #notebook in same directory with name : Machine Learning Solution"
      ]
    },
    {
      "cell_type": "code",
      "metadata": {
        "id": "t91fRIXhVrXu",
        "colab_type": "code",
        "colab": {}
      },
      "source": [
        "import pandas as pd\n",
        "import numpy as np\n",
        "import matplotlib.pyplot as plt\n",
        "% matplotlib inline"
      ],
      "execution_count": 0,
      "outputs": []
    },
    {
      "cell_type": "markdown",
      "metadata": {
        "id": "jMmZ2XiiVrXx",
        "colab_type": "text"
      },
      "source": [
        "# Lets load both training and Testing Data"
      ]
    },
    {
      "cell_type": "code",
      "metadata": {
        "id": "fBVFfjeYVrXx",
        "colab_type": "code",
        "colab": {}
      },
      "source": [
        "train_df =pd.read_csv(\"Data.csv\")\n",
        "train_df = train_df.drop(['Instance'], axis=1)\n",
        "test_df = pd.read_csv(\"tcdml2019-20incomepredictiontest(without labels).csv\")\n",
        "#train_df = train_df[(train_df['Income in EUR'] > 0) ]"
      ],
      "execution_count": 0,
      "outputs": []
    },
    {
      "cell_type": "code",
      "metadata": {
        "id": "L5CljPtnWVS7",
        "colab_type": "code",
        "colab": {}
      },
      "source": [
        ""
      ],
      "execution_count": 0,
      "outputs": []
    },
    {
      "cell_type": "markdown",
      "metadata": {
        "id": "Ga3WvZRUVrX0",
        "colab_type": "text"
      },
      "source": [
        "# Lets describe the training data and we see that there are negative incomes and few outliers. We can get rid of those rows"
      ]
    },
    {
      "cell_type": "code",
      "metadata": {
        "id": "am9VkpWuVrX0",
        "colab_type": "code",
        "colab": {}
      },
      "source": [
        "# train_df.describe()\n",
        "#train_df = train_df[(train_df['Income in EUR'] > 0)]\n",
        "#train_df = train_df[train_df['Age'] < 110]\n",
        "#train_df = train_df[train_df['Body Height [cm]'] < 225]"
      ],
      "execution_count": 0,
      "outputs": []
    },
    {
      "cell_type": "markdown",
      "metadata": {
        "id": "nmYOIwOYVrX2",
        "colab_type": "text"
      },
      "source": [
        "# Since there are 4-5 categorical variables and we have tested accucary of using few encoding such as one hot, label and target encoding. Target encoding gives me the best accurcay"
      ]
    },
    {
      "cell_type": "code",
      "metadata": {
        "id": "SfCUzKW5VrX3",
        "colab_type": "code",
        "colab": {}
      },
      "source": [
        "def target_encoding(data, target, categ_variables, smooth):\n",
        "    \"\"\"    \n",
        "  \n",
        "    \"\"\"\n",
        "    train_target = data.copy()\n",
        "    code_map = dict()   \n",
        "    default_map = dict() \n",
        "    \n",
        "    for v in categ_variables:\n",
        "        prior = data[target].mean()\n",
        "        n = data.groupby(v).size()\n",
        "        mu = data.groupby(v)[target].mean()\n",
        "        mu_smoothed = (n * mu + smooth * prior) / (n + smooth)\n",
        "        \n",
        "        train_target.loc[:, v] = train_target[v].map(mu_smoothed)        \n",
        "        code_map[v] = mu_smoothed\n",
        "        default_map[v] = prior        \n",
        "    return train_target, code_map, default_map"
      ],
      "execution_count": 0,
      "outputs": []
    },
    {
      "cell_type": "code",
      "metadata": {
        "id": "4e6wUIETVrX5",
        "colab_type": "code",
        "colab": {
          "base_uri": "https://localhost:8080/",
          "height": 34
        },
        "outputId": "579f1ae4-fb0e-4098-e6ba-e7408128a970"
      },
      "source": [
        "len(train_df['Profession'].unique())\n"
      ],
      "execution_count": 39,
      "outputs": [
        {
          "output_type": "execute_result",
          "data": {
            "text/plain": [
              "1341"
            ]
          },
          "metadata": {
            "tags": []
          },
          "execution_count": 39
        }
      ]
    },
    {
      "cell_type": "code",
      "metadata": {
        "id": "vzoiPpI5VrX9",
        "colab_type": "code",
        "colab": {}
      },
      "source": [
        "categories = ['Country', 'Profession', 'University Degree','Gender']\n",
        "train_smooth, target_m, d_m = target_encoding(train_df, 'Income in EUR', categories, 10)\n",
        "test_t = test_df.copy()\n",
        "for v in categories:\n",
        "    test_t.loc[:, v] = test_t[v].map(target_m[v])"
      ],
      "execution_count": 0,
      "outputs": []
    },
    {
      "cell_type": "markdown",
      "metadata": {
        "id": "I5dfW35LVrX_",
        "colab_type": "text"
      },
      "source": [
        "# We ran this model multiple times to see which features are adding value to the model. Hence we have selected below feature which gives best accuracy so far."
      ]
    },
    {
      "cell_type": "code",
      "metadata": {
        "id": "a3yv9DNfVrX_",
        "colab_type": "code",
        "colab": {}
      },
      "source": [
        "final_trhot = train_smooth[['Age','Year of Record','Body Height [cm]', 'Country', 'University Degree','Profession'\n",
        "                                  ,'Size of City','Gender']]\n",
        "test_col = test_t[['Age','Year of Record','Body Height [cm]', 'Country', 'University Degree','Profession',\n",
        "                              'Size of City', 'Gender']]"
      ],
      "execution_count": 0,
      "outputs": []
    },
    {
      "cell_type": "code",
      "metadata": {
        "id": "xh7eJLdgVrYD",
        "colab_type": "code",
        "colab": {
          "base_uri": "https://localhost:8080/",
          "height": 50
        },
        "outputId": "dc2f8dae-8228-47d2-c79f-f3e8676288e4"
      },
      "source": [
        "# lets fill those missing values by taking means and since Income variable is skewed. We will take its log\n",
        "\n",
        "final_trhot = final_trhot.fillna(final_trhot.mean())\n",
        "test_col = test_col.fillna(test_col.mean())\n",
        "y_t = np.log(train_df['Income in EUR'])"
      ],
      "execution_count": 9,
      "outputs": [
        {
          "output_type": "stream",
          "text": [
            "/usr/local/lib/python3.6/dist-packages/ipykernel_launcher.py:4: RuntimeWarning: invalid value encountered in log\n",
            "  after removing the cwd from sys.path.\n"
          ],
          "name": "stderr"
        }
      ]
    },
    {
      "cell_type": "code",
      "metadata": {
        "id": "B1fK8qz7VrYF",
        "colab_type": "code",
        "colab": {
          "base_uri": "https://localhost:8080/",
          "height": 67
        },
        "outputId": "448c1033-949b-4c87-97d8-4e33e75ac18c"
      },
      "source": [
        "# Lets build linear model and check its accuracy\n",
        "\n",
        "from sklearn.model_selection import train_test_split\n",
        "Xhot_tr, Xhot_ts, Yhot_tr, Yhot_ts = train_test_split(final_trhot, y_t, test_size=0.25, random_state = 7)\n",
        "\n",
        "\n",
        "from sklearn import linear_model\n",
        "from sklearn.metrics import r2_score\n",
        "from sklearn.metrics import mean_squared_error\n",
        "\n",
        "lm = linear_model.LinearRegression()\n",
        "\n",
        "\n",
        "lm.fit(Xhot_tr,Yhot_tr)\n",
        "y_pred = lm.predict(Xhot_ts)\n",
        "print('The accuracy of the Linear Regression is',r2_score(Yhot_ts,y_pred))\n",
        "print ('MSE is: \\n', (mean_squared_error(Yhot_ts,y_pred)))\n"
      ],
      "execution_count": 11,
      "outputs": [
        {
          "output_type": "stream",
          "text": [
            "The accuracy of the Linear Regression is 0.6804993708026185\n",
            "MSE is: \n",
            " 0.3844242452255641\n"
          ],
          "name": "stdout"
        }
      ]
    },
    {
      "cell_type": "code",
      "metadata": {
        "id": "hsbjKmdfVrYH",
        "colab_type": "code",
        "colab": {}
      },
      "source": [
        "#from sklearn.preprocessing import StandardScaler\n",
        "#scaler = StandardScaler().fit(Xhot_tr)\n",
        "#rescaled_X_train = scaler.transform(Xhot_tr)\n",
        "\n",
        "#lm.fit(rescaled_X_train,Yhot_tr)\n",
        "\n",
        "#rescaled_X_ts = scaler.transform(Xhot_ts)\n",
        "#predictions = lm.predict(rescaled_X_ts)\n",
        "#print('The accuracy of the Linear Regression is',r2_score(Yhot_ts,predictions))\n",
        "#print ('MSE is: \\n', np.sqrt(mean_squared_error(Yhot_ts,predictions)))\n"
      ],
      "execution_count": 0,
      "outputs": []
    },
    {
      "cell_type": "code",
      "metadata": {
        "id": "Mxq3sZ3lVrYI",
        "colab_type": "code",
        "colab": {}
      },
      "source": [
        "#import numpy\n",
        "#from sklearn import linear_model\n",
        "#from sklearn.ensemble import RandomForestRegressor\n",
        "\n",
        "#cls = RandomForestRegressor(n_estimators=250, criterion='mse', max_depth=30)\n",
        "\n",
        "#cls.fit(rescaled_X_train,Yhot_tr)\n",
        "#y_pred = cls.predict(rescaled_X_ts)\n",
        "\n",
        "#print('The accuracy of the Linear Regression is',r2_score(Yhot_ts,y_pred))\n",
        "#print ('RMSE is: \\n', np.sqrt(mean_squared_error(Yhot_ts,y_pred)))\n"
      ],
      "execution_count": 0,
      "outputs": []
    },
    {
      "cell_type": "code",
      "metadata": {
        "id": "0JqpFhb5VrYK",
        "colab_type": "code",
        "colab": {
          "base_uri": "https://localhost:8080/",
          "height": 67
        },
        "outputId": "f6c9acd3-f086-45d5-c1fb-4d4f4ba74d3c"
      },
      "source": [
        "# Lets build regression model and check its accuracy\n",
        "\n",
        "import numpy\n",
        "from sklearn import linear_model\n",
        "from sklearn.ensemble import RandomForestRegressor\n",
        "\n",
        "cls = RandomForestRegressor(n_estimators=250, criterion='mse', max_depth=30)\n",
        "\n",
        "cls.fit(Xhot_tr, Yhot_tr)\n",
        "y_pred = cls.predict(Xhot_ts)\n",
        "\n",
        "print('The accuracy of the Linear Regression is',r2_score(Yhot_ts,y_pred))\n",
        "print ('RMSE is: \\n', (mean_squared_error(Yhot_ts,y_pred)))\n"
      ],
      "execution_count": 12,
      "outputs": [
        {
          "output_type": "stream",
          "text": [
            "The accuracy of the Linear Regression is 0.9061450898599498\n",
            "RMSE is: \n",
            " 0.11292654753744583\n"
          ],
          "name": "stdout"
        }
      ]
    },
    {
      "cell_type": "markdown",
      "metadata": {
        "id": "6v83fyvjVrYM",
        "colab_type": "text"
      },
      "source": [
        "# It is also important to note that RMSE score decreases if we take log of Income variable on validation data. We shall stick to this approach only. Also, if we are not taking log of Income variable, we need to scale our data. Result are pretty much same on testing data only RMSE differs on local validation data"
      ]
    },
    {
      "cell_type": "code",
      "metadata": {
        "id": "65XCNCt1Y93o",
        "colab_type": "code",
        "colab": {}
      },
      "source": [
        "import re\n",
        "\n",
        "regex = re.compile(r\"\\[|\\]|<\", re.IGNORECASE)\n",
        "\n",
        "final_trhot.columns = [regex.sub(\"_\", col) if any(x in str(col) for x in set(('[', ']', '<'))) else col for col in final_trhot.columns.values]\n",
        "#Xhot_ts.columns = [regex.sub(\"_\", col) if any(x in str(col) for x in set(('[', ']', '<'))) else col for col in Xhot_ts.columns.values]\n",
        "test_col.columns = [regex.sub(\"_\", col) if any(x in str(col) for x in set(('[', ']', '<'))) else col for col in test_col.columns.values]"
      ],
      "execution_count": 0,
      "outputs": []
    },
    {
      "cell_type": "code",
      "metadata": {
        "id": "YkS_C_EVbbD0",
        "colab_type": "code",
        "colab": {
          "base_uri": "https://localhost:8080/",
          "height": 138
        },
        "outputId": "7234fdd6-5309-4c16-9de4-52f0889d57ad"
      },
      "source": [
        "from sklearn.preprocessing import StandardScaler\n",
        "from sklearn.metrics import r2_score\n",
        "from sklearn.metrics import mean_squared_error\n",
        "\n",
        "\n",
        "from xgboost import XGBRegressor\n",
        "from sklearn.model_selection import train_test_split\n",
        "Xhot_tr, Xhot_ts, Yhot_tr, Yhot_ts = train_test_split(final_trhot, train_df['Income in EUR'], test_size=0.25, random_state = 7)\n",
        "\n",
        "scaler = StandardScaler().fit(Xhot_tr)\n",
        "rescaled_X_train = scaler.transform(Xhot_tr)\n",
        "\n",
        "rescaled_X_ts = scaler.transform(Xhot_ts)\n",
        "\n",
        "my_model = XGBRegressor(n_estimators=1000)\n",
        "xgb = my_model.fit(rescaled_X_train, Yhot_tr, early_stopping_rounds=5, \n",
        "             eval_set=[(rescaled_X_ts, Yhot_ts)], verbose=False)\n",
        "\n",
        "y_pred = xgb.predict(rescaled_X_ts)\n",
        "\n",
        "print('The accuracy of the XGB Regression is',r2_score(Yhot_ts,y_pred))\n",
        "print ('RMSE is: \\n', np.sqrt(mean_squared_error(Yhot_ts,y_pred)))\n"
      ],
      "execution_count": 12,
      "outputs": [
        {
          "output_type": "stream",
          "text": [
            "/usr/local/lib/python3.6/dist-packages/xgboost/core.py:587: FutureWarning: Series.base is deprecated and will be removed in a future version\n",
            "  if getattr(data, 'base', None) is not None and \\\n"
          ],
          "name": "stderr"
        },
        {
          "output_type": "stream",
          "text": [
            "[18:20:18] WARNING: /workspace/src/objective/regression_obj.cu:152: reg:linear is now deprecated in favor of reg:squarederror.\n",
            "The accuracy of the XGB Regression is 0.8388044065504278\n",
            "RMSE is: \n",
            " 58988.46894758571\n"
          ],
          "name": "stdout"
        }
      ]
    },
    {
      "cell_type": "code",
      "metadata": {
        "id": "y1I0CgCzrQHs",
        "colab_type": "code",
        "colab": {
          "base_uri": "https://localhost:8080/",
          "height": 34
        },
        "outputId": "66cc49d6-350e-4d2b-eb89-4d0752c46327"
      },
      "source": [
        "len(rescaled_X_ts)"
      ],
      "execution_count": 18,
      "outputs": [
        {
          "output_type": "execute_result",
          "data": {
            "text/plain": [
              "73230"
            ]
          },
          "metadata": {
            "tags": []
          },
          "execution_count": 18
        }
      ]
    },
    {
      "cell_type": "code",
      "metadata": {
        "id": "_HTu9C5OnBwa",
        "colab_type": "code",
        "colab": {
          "base_uri": "https://localhost:8080/",
          "height": 50
        },
        "outputId": "8205dad2-dd6e-4df8-f1f0-f8e3ba83cc96"
      },
      "source": [
        "from sklearn import ensemble\n",
        "\n",
        "clf = ensemble.GradientBoostingRegressor(n_estimators = 1200, max_depth = 7, min_samples_split = 2,\n",
        "          learning_rate = 0.1, loss = 'ls')\n",
        "\n",
        "clf.fit(rescaled_X_train, Yhot_tr)\n",
        "\n",
        "rescaled_X_ts = scaler.transform(Xhot_ts)\n",
        "predictions = clf.predict(rescaled_X_ts)\n",
        "\n",
        "print('The accuracy of the XGB Regression is',r2_score(Yhot_ts,y_pred))\n",
        "print (np.sqrt(mean_squared_error(Yhot_ts, predictions)))"
      ],
      "execution_count": 24,
      "outputs": [
        {
          "output_type": "stream",
          "text": [
            "The accuracy of the XGB Regression is 0.8388044065504278\n",
            "58879.07945487714\n"
          ],
          "name": "stdout"
        }
      ]
    },
    {
      "cell_type": "code",
      "metadata": {
        "id": "W2hV7VI8Y8fn",
        "colab_type": "code",
        "colab": {
          "base_uri": "https://localhost:8080/",
          "height": 67
        },
        "outputId": "ee4489fd-0869-47aa-a94a-75df62dc40c2"
      },
      "source": [
        "test_col.columns"
      ],
      "execution_count": 49,
      "outputs": [
        {
          "output_type": "execute_result",
          "data": {
            "text/plain": [
              "Index(['Age', 'Year of Record', 'Body Height _cm_', 'Country',\n",
              "       'University Degree', 'Profession', 'Size of City', 'Gender'],\n",
              "      dtype='object')"
            ]
          },
          "metadata": {
            "tags": []
          },
          "execution_count": 49
        }
      ]
    },
    {
      "cell_type": "code",
      "metadata": {
        "id": "vd_tzWYFVrYP",
        "colab_type": "code",
        "colab": {}
      },
      "source": [
        "#rescaled_X_ts = scaler.transform(test_col)\n",
        "#predictions = cls.predict(rescaled_X_ts)\n",
        "#actual_predictions = predictions\n",
        "\n",
        "# Since we have take log of Income variable when buidling model, now we need to inverse log so that we can get actual value of \n",
        "#incomes\n",
        "\n",
        "#Lets do prediction on testing data\n",
        "\n",
        "test_X_ts = scaler.transform(test_col)\n",
        "#predictions = xgb.predict(test_col)\n",
        "#predictions = xgb.predict(rescaled_X_ts)\n",
        "predictions = clf.predict(test_X_ts)\n",
        "#actual_predictions = np.exp(predictions)\n"
      ],
      "execution_count": 0,
      "outputs": []
    },
    {
      "cell_type": "code",
      "metadata": {
        "id": "Ce4DgHf2VrYR",
        "colab_type": "code",
        "colab": {
          "base_uri": "https://localhost:8080/",
          "height": 34
        },
        "outputId": "545f61f7-4da1-4eaf-e5d0-14c9d152e987"
      },
      "source": [
        "predictions.max()"
      ],
      "execution_count": 26,
      "outputs": [
        {
          "output_type": "execute_result",
          "data": {
            "text/plain": [
              "4277315.508772634"
            ]
          },
          "metadata": {
            "tags": []
          },
          "execution_count": 26
        }
      ]
    },
    {
      "cell_type": "code",
      "metadata": {
        "id": "_e4vibSdVrYT",
        "colab_type": "code",
        "colab": {
          "base_uri": "https://localhost:8080/",
          "height": 34
        },
        "outputId": "c3fb195b-f5d0-4f75-a010-2db9eb2aafb8"
      },
      "source": [
        "submissions =pd.DataFrame({'Instance': test_df['Instance'], 'Income': predictions}, columns =['Instance','Income'])\n",
        "filename ='tcd ml 2019-20 income prediction submission file.csv'\n",
        "submissions.to_csv(filename, index=False)\n",
        "print('Saved File '+ filename)"
      ],
      "execution_count": 27,
      "outputs": [
        {
          "output_type": "stream",
          "text": [
            "Saved File tcd ml 2019-20 income prediction submission file.csv\n"
          ],
          "name": "stdout"
        }
      ]
    }
  ]
}