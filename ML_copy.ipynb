{
  "nbformat": 4,
  "nbformat_minor": 0,
  "metadata": {
    "colab": {
      "name": "ML_copy.ipynb",
      "provenance": [],
      "collapsed_sections": [],
      "machine_shape": "hm",
      "include_colab_link": true
    },
    "kernelspec": {
      "name": "python3",
      "display_name": "Python 3"
    },
    "accelerator": "GPU"
  },
  "cells": [
    {
      "cell_type": "markdown",
      "metadata": {
        "id": "view-in-github",
        "colab_type": "text"
      },
      "source": [
        "<a href=\"https://colab.research.google.com/github/singh0021/TCD-Kaggle-Projects/blob/master/ML_copy.ipynb\" target=\"_parent\"><img src=\"https://colab.research.google.com/assets/colab-badge.svg\" alt=\"Open In Colab\"/></a>"
      ]
    },
    {
      "cell_type": "code",
      "metadata": {
        "id": "5MNuqy16HhfP",
        "colab_type": "code",
        "colab": {}
      },
      "source": [
        ""
      ],
      "execution_count": 0,
      "outputs": []
    },
    {
      "cell_type": "code",
      "metadata": {
        "id": "7pqy_7OpHi8K",
        "colab_type": "code",
        "outputId": "f7a32cd8-d7cd-40f2-a1a0-f2ea22050f20",
        "colab": {
          "base_uri": "https://localhost:8080/",
          "height": 122
        }
      },
      "source": [
        "from google.colab import drive\n",
        "drive.mount('/content/drive')"
      ],
      "execution_count": 0,
      "outputs": [
        {
          "output_type": "stream",
          "text": [
            "Go to this URL in a browser: https://accounts.google.com/o/oauth2/auth?client_id=947318989803-6bn6qk8qdgf4n4g3pfee6491hc0brc4i.apps.googleusercontent.com&redirect_uri=urn%3aietf%3awg%3aoauth%3a2.0%3aoob&response_type=code&scope=email%20https%3a%2f%2fwww.googleapis.com%2fauth%2fdocs.test%20https%3a%2f%2fwww.googleapis.com%2fauth%2fdrive%20https%3a%2f%2fwww.googleapis.com%2fauth%2fdrive.photos.readonly%20https%3a%2f%2fwww.googleapis.com%2fauth%2fpeopleapi.readonly\n",
            "\n",
            "Enter your authorization code:\n",
            "··········\n",
            "Mounted at /content/drive\n"
          ],
          "name": "stdout"
        }
      ]
    },
    {
      "cell_type": "code",
      "metadata": {
        "id": "xCJLiqeZL3w-",
        "colab_type": "code",
        "outputId": "64182ed7-7baa-43cb-9e46-af754098b9ef",
        "colab": {
          "base_uri": "https://localhost:8080/",
          "height": 51
        }
      },
      "source": [
        "## Lets training and testing simultaneously\n",
        "import numpy as np\n",
        "import pandas as pd\n",
        "% matplotlib inline\n",
        "\n",
        "train_df = pd.read_csv(\"/content/drive/My Drive/Colab Notebooks/ML_IncomePrediction/tcd-ml-comp-201920-income-pred-group/tcd-ml-1920-group-income-train.csv\")\n"
      ],
      "execution_count": 0,
      "outputs": [
        {
          "output_type": "stream",
          "text": [
            "/usr/local/lib/python3.6/dist-packages/IPython/core/interactiveshell.py:2718: DtypeWarning: Columns (2,4) have mixed types. Specify dtype option on import or set low_memory=False.\n",
            "  interactivity=interactivity, compiler=compiler, result=result)\n"
          ],
          "name": "stderr"
        }
      ]
    },
    {
      "cell_type": "code",
      "metadata": {
        "id": "qCD6vInHGsQ1",
        "colab_type": "code",
        "outputId": "9ec07a71-ef10-4885-864c-644435dad7e1",
        "colab": {
          "base_uri": "https://localhost:8080/",
          "height": 204
        }
      },
      "source": [
        "test_df = pd.read_csv(\"/content/drive/My Drive/Colab Notebooks/ML_IncomePrediction/tcd-ml-comp-201920-income-pred-group/tcd-ml-1920-group-income-test.csv\")\n",
        "test_copy = test_df.copy()\n",
        "\n",
        "## checking missing data in testing data\n",
        "print ('Missing data in each Income dataframe column:')\n",
        "for c in test_copy.columns:\n",
        "    missing_data = len(test_copy) - test_copy[c].count()\n",
        "    if (missing_data > 0 or missing_data =='NaN'):\n",
        "        print (c, ':', missing_data, 'missing values is', str(round(float(missing_data / float(len(test_copy))) *  100, 2)), '% of total')"
      ],
      "execution_count": 0,
      "outputs": [
        {
          "output_type": "stream",
          "text": [
            "/usr/local/lib/python3.6/dist-packages/IPython/core/interactiveshell.py:2718: DtypeWarning: Columns (4) have mixed types. Specify dtype option on import or set low_memory=False.\n",
            "  interactivity=interactivity, compiler=compiler, result=result)\n"
          ],
          "name": "stderr"
        },
        {
          "output_type": "stream",
          "text": [
            "Missing data in each Income dataframe column:\n",
            "Year of Record : 1494 missing values is 0.4 % of total\n",
            "Satisfation with employer : 13432 missing values is 3.64 % of total\n",
            "Gender : 26308 missing values is 7.12 % of total\n",
            "Country : 1 missing values is 0.0 % of total\n",
            "Profession : 1041 missing values is 0.28 % of total\n",
            "University Degree : 28738 missing values is 7.78 % of total\n",
            "Hair Color : 24651 missing values is 6.67 % of total\n",
            "Total Yearly Income [EUR] : 369438 missing values is 100.0 % of total\n"
          ],
          "name": "stdout"
        }
      ]
    },
    {
      "cell_type": "code",
      "metadata": {
        "id": "hR6puD2psWoF",
        "colab_type": "code",
        "outputId": "e6744cdf-279f-4cfb-9ee2-b77cdba7fa80",
        "colab": {
          "base_uri": "https://localhost:8080/",
          "height": 136
        }
      },
      "source": [
        "## checking missing data in training data\n",
        "\n",
        "print ('Missing data in each Income dataframe column:')\n",
        "for c in train_df.columns:\n",
        "    missing_data = len(train_df) - train_df[c].count()\n",
        "    if (missing_data > 0 or missing_data =='NaN'):\n",
        "        print (c, ':', missing_data, 'missing values is', str(round(float(missing_data / float(len(train_df))) *  100, 2)), '% of total')"
      ],
      "execution_count": 0,
      "outputs": [
        {
          "output_type": "stream",
          "text": [
            "Missing data in each Income dataframe column:\n",
            "Year of Record : 4013 missing values is 0.38 % of total\n",
            "Satisfation with employer : 38087 missing values is 3.63 % of total\n",
            "Gender : 74127 missing values is 7.07 % of total\n",
            "Profession : 2853 missing values is 0.27 % of total\n",
            "University Degree : 80600 missing values is 7.69 % of total\n",
            "Hair Color : 70211 missing values is 6.7 % of total\n"
          ],
          "name": "stdout"
        }
      ]
    },
    {
      "cell_type": "code",
      "metadata": {
        "id": "5qxBeJsCMO47",
        "colab_type": "code",
        "outputId": "9f72f9aa-f998-45ca-9bc0-d185f8da3cf2",
        "colab": {
          "base_uri": "https://localhost:8080/",
          "height": 173
        }
      },
      "source": [
        "#Lets describe training data\n",
        "train_copy = train_df.copy()\n",
        "\n",
        "train_copy['Yearly Income in addition to Salary (e.g. Rental Income)'] = train_copy['Yearly Income in addition to Salary (e.g. Rental Income)'].str.replace(' EUR', '')\n",
        "test_copy['Yearly Income in addition to Salary (e.g. Rental Income)'] = test_copy['Yearly Income in addition to Salary (e.g. Rental Income)'].str.replace(' EUR', '')\n",
        "\n",
        "category = train_df.select_dtypes(exclude=[np.number])\n",
        "category.describe()"
      ],
      "execution_count": 0,
      "outputs": [
        {
          "output_type": "execute_result",
          "data": {
            "text/html": [
              "<div>\n",
              "<style scoped>\n",
              "    .dataframe tbody tr th:only-of-type {\n",
              "        vertical-align: middle;\n",
              "    }\n",
              "\n",
              "    .dataframe tbody tr th {\n",
              "        vertical-align: top;\n",
              "    }\n",
              "\n",
              "    .dataframe thead th {\n",
              "        text-align: right;\n",
              "    }\n",
              "</style>\n",
              "<table border=\"1\" class=\"dataframe\">\n",
              "  <thead>\n",
              "    <tr style=\"text-align: right;\">\n",
              "      <th></th>\n",
              "      <th>Housing Situation</th>\n",
              "      <th>Work Experience in Current Job [years]</th>\n",
              "      <th>Satisfation with employer</th>\n",
              "      <th>Gender</th>\n",
              "      <th>Country</th>\n",
              "      <th>Profession</th>\n",
              "      <th>University Degree</th>\n",
              "      <th>Hair Color</th>\n",
              "      <th>Yearly Income in addition to Salary (e.g. Rental Income)</th>\n",
              "    </tr>\n",
              "  </thead>\n",
              "  <tbody>\n",
              "    <tr>\n",
              "      <th>count</th>\n",
              "      <td>1048574</td>\n",
              "      <td>1048574</td>\n",
              "      <td>1010487</td>\n",
              "      <td>974447</td>\n",
              "      <td>1048574</td>\n",
              "      <td>1045721</td>\n",
              "      <td>967974</td>\n",
              "      <td>978363</td>\n",
              "      <td>1048574</td>\n",
              "    </tr>\n",
              "    <tr>\n",
              "      <th>unique</th>\n",
              "      <td>10</td>\n",
              "      <td>109</td>\n",
              "      <td>4</td>\n",
              "      <td>6</td>\n",
              "      <td>174</td>\n",
              "      <td>1354</td>\n",
              "      <td>5</td>\n",
              "      <td>6</td>\n",
              "      <td>88309</td>\n",
              "    </tr>\n",
              "    <tr>\n",
              "      <th>top</th>\n",
              "      <td>Large House</td>\n",
              "      <td>12</td>\n",
              "      <td>Average</td>\n",
              "      <td>male</td>\n",
              "      <td>Honduras</td>\n",
              "      <td>payment analyst</td>\n",
              "      <td>Bachelor</td>\n",
              "      <td>Black</td>\n",
              "      <td>0 EUR</td>\n",
              "    </tr>\n",
              "    <tr>\n",
              "      <th>freq</th>\n",
              "      <td>166291</td>\n",
              "      <td>49606</td>\n",
              "      <td>487634</td>\n",
              "      <td>400113</td>\n",
              "      <td>111155</td>\n",
              "      <td>2374</td>\n",
              "      <td>396585</td>\n",
              "      <td>400652</td>\n",
              "      <td>946048</td>\n",
              "    </tr>\n",
              "  </tbody>\n",
              "</table>\n",
              "</div>"
            ],
            "text/plain": [
              "       Housing Situation  ... Yearly Income in addition to Salary (e.g. Rental Income)\n",
              "count            1048574  ...                                            1048574      \n",
              "unique                10  ...                                              88309      \n",
              "top          Large House  ...                                              0 EUR      \n",
              "freq              166291  ...                                             946048      \n",
              "\n",
              "[4 rows x 9 columns]"
            ]
          },
          "metadata": {
            "tags": []
          },
          "execution_count": 4
        }
      ]
    },
    {
      "cell_type": "code",
      "metadata": {
        "id": "uyynWohOlA6d",
        "colab_type": "code",
        "outputId": "8508193c-4be2-41de-a737-34cc72e05212",
        "colab": {
          "base_uri": "https://localhost:8080/",
          "height": 51
        }
      },
      "source": [
        "## Handling of missing data in both training and testing data\n",
        "train_copy['University Degree'] = train_copy['University Degree'].fillna('unknown')\n",
        "train_copy['University Degree'] = train_copy['University Degree'].replace('0', 'unknown')\n",
        "train_copy['Satisfation with employer']= train_copy['Satisfation with employer'].fillna('unknown')\n",
        "train_copy['Gender'] = train_copy['Gender'].fillna('unknown')\n",
        "train_copy['Profession'] = train_copy['Profession'].fillna('unknown')\n",
        "\n",
        "test_copy['Gender'] = test_copy['Gender'].replace('f', 'female')\n",
        "test_copy['Gender'] = test_copy['Gender'].replace('0', 'unknown')\n",
        "test_copy['Gender'] = test_copy['Gender'].replace('other', 'unknown')\n",
        "test_copy['Gender'] = test_copy['Gender'].fillna('unknown')\n",
        "test_copy['Satisfation with employer']= test_copy['Satisfation with employer'].fillna('unknown')\n",
        "test_copy['Housing Situation'] = test_copy['Housing Situation'].replace('nA', 'unknown')\n",
        "test_copy['Housing Situation'] = test_copy['Housing Situation'].replace(0,'unknown')\n",
        "test_copy['Housing Situation'] = test_copy['Housing Situation'].replace('0','unknown')\n",
        "test_copy['University Degree'] = test_copy['University Degree'].fillna('unknown')\n",
        "test_copy['University Degree'] = test_copy['University Degree'].replace('0', 'unknown')\n",
        "test_copy['Year of Record'] = test_copy['Year of Record'].fillna(test_copy['Year of Record'].mean())\n",
        "test_copy['Work Experience in Current Job [years]'] = test_copy['Work Experience in Current Job [years]'][test_copy['Work Experience in Current Job [years]']!='#NUM!'].astype(float)\n",
        "test_copy['Work Experience in Current Job [years]'] = test_copy['Work Experience in Current Job [years]'].fillna(test_copy['Work Experience in Current Job [years]'].mean())\n",
        "test_copy['Profession'] = test_copy['Profession'].fillna('unknown')\n",
        "test_copy['Country'] = test_copy['Country'].fillna('unknown')\n",
        "\n",
        "train_copy['Gender'] = train_copy['Gender'].replace('f', 'female')\n",
        "train_copy['Gender'] = train_copy['Gender'].replace('0', 'unknown')\n",
        "train_copy['Gender'] = train_copy['Gender'].replace('other', 'unknown')\n",
        "train_copy['Housing Situation'] = train_copy['Housing Situation'].replace('nA', 'unknown')\n",
        "train_copy['Housing Situation'] = train_copy['Housing Situation'].replace(0,'unknown')\n",
        "train_copy['Housing Situation'] = train_copy['Housing Situation'].replace('0','unknown')\n",
        "train_copy['Year of Record'] = train_copy['Year of Record'].fillna(train_copy['Year of Record'].mean())\n",
        "#train_copy = train_copy[train_copy.Profession !='NA']\n",
        "\n",
        "train_copy['Work Experience in Current Job [years]'] = train_copy['Work Experience in Current Job [years]'][train_copy['Work Experience in Current Job [years]']!='#NUM!'].astype(float)\n",
        "train_copy['Work Experience in Current Job [years]'] = train_copy['Work Experience in Current Job [years]'].fillna(train_copy['Work Experience in Current Job [years]'].mean())\n",
        "train_copy['Yearly Income in addition to Salary (e.g. Rental Income)'] = train_copy['Yearly Income in addition to Salary (e.g. Rental Income)'].astype(float)\n",
        "train_copy['Yearly Income in addition to Salary (e.g. Rental Income)'] = train_copy['Yearly Income in addition to Salary (e.g. Rental Income)'].fillna(train_copy['Yearly Income in addition to Salary (e.g. Rental Income)'].median())\n",
        "train_copy['Total Yearly Income [EUR]'] = train_copy['Total Yearly Income [EUR]'].fillna(train_copy['Total Yearly Income [EUR]'].mean())\n",
        "train_copy['Body Height [cm]'] = train_copy['Body Height [cm]'].fillna(train_copy['Body Height [cm]'].mean())"
      ],
      "execution_count": 0,
      "outputs": [
        {
          "output_type": "stream",
          "text": [
            "/usr/local/lib/python3.6/dist-packages/pandas/core/ops/__init__.py:1115: FutureWarning: elementwise comparison failed; returning scalar instead, but in the future will perform elementwise comparison\n",
            "  result = method(y)\n"
          ],
          "name": "stderr"
        }
      ]
    },
    {
      "cell_type": "code",
      "metadata": {
        "id": "yULo6-TTX3jt",
        "colab_type": "code",
        "outputId": "a9511e4d-d066-476e-dc98-d41c4886b2b3",
        "colab": {
          "base_uri": "https://localhost:8080/",
          "height": 723
        }
      },
      "source": [
        "train_copy.boxplot('Total Yearly Income [EUR]','Housing Situation',rot = 30,figsize=(10,10))\n"
      ],
      "execution_count": 0,
      "outputs": [
        {
          "output_type": "execute_result",
          "data": {
            "text/plain": [
              "<matplotlib.axes._subplots.AxesSubplot at 0x7f031e1e4438>"
            ]
          },
          "metadata": {
            "tags": []
          },
          "execution_count": 8
        },
        {
          "output_type": "display_data",
          "data": {
            "image/png": "[encoded data removed]",
            "text/plain": [
              "<Figure size 720x720 with 1 Axes>"
            ]
          },
          "metadata": {
            "tags": []
          }
        }
      ]
    },
    {
      "cell_type": "code",
      "metadata": {
        "id": "LD3z8dP1VuYu",
        "colab_type": "code",
        "outputId": "562d5e95-15bf-4b32-8b61-f3ad94ac7712",
        "colab": {
          "base_uri": "https://localhost:8080/",
          "height": 459
        }
      },
      "source": [
        "train_copy.boxplot('Total Yearly Income [EUR]','Gender',rot = 30,figsize=(5,6))"
      ],
      "execution_count": 0,
      "outputs": [
        {
          "output_type": "execute_result",
          "data": {
            "text/plain": [
              "<matplotlib.axes._subplots.AxesSubplot at 0x7f031dbe3fd0>"
            ]
          },
          "metadata": {
            "tags": []
          },
          "execution_count": 9
        },
        {
          "output_type": "display_data",
          "data": {
            "image/png": "[encoded data removed]",
            "text/plain": [
              "<Figure size 360x432 with 1 Axes>"
            ]
          },
          "metadata": {
            "tags": []
          }
        }
      ]
    },
    {
      "cell_type": "code",
      "metadata": {
        "id": "p--D8M8YWSAF",
        "colab_type": "code",
        "outputId": "6a915095-3c7f-40ba-880d-442e68b4e105",
        "colab": {
          "base_uri": "https://localhost:8080/",
          "height": 459
        }
      },
      "source": [
        "train_copy.boxplot('Total Yearly Income [EUR]','University Degree',rot = 30,figsize=(5,6))"
      ],
      "execution_count": 0,
      "outputs": [
        {
          "output_type": "execute_result",
          "data": {
            "text/plain": [
              "<matplotlib.axes._subplots.AxesSubplot at 0x7f031db7f0b8>"
            ]
          },
          "metadata": {
            "tags": []
          },
          "execution_count": 10
        },
        {
          "output_type": "display_data",
          "data": {
            "image/png": "[encoded data removed]",
            "text/plain": [
              "<Figure size 360x432 with 1 Axes>"
            ]
          },
          "metadata": {
            "tags": []
          }
        }
      ]
    },
    {
      "cell_type": "code",
      "metadata": {
        "id": "xoqTxo_sXvyY",
        "colab_type": "code",
        "outputId": "52004728-e68f-4172-978e-04d65aa2683f",
        "colab": {
          "base_uri": "https://localhost:8080/",
          "height": 480
        }
      },
      "source": [
        "train_copy.boxplot('Total Yearly Income [EUR]','Satisfation with employer',rot = 30,figsize=(5,6))"
      ],
      "execution_count": 0,
      "outputs": [
        {
          "output_type": "execute_result",
          "data": {
            "text/plain": [
              "<matplotlib.axes._subplots.AxesSubplot at 0x7fa5ce792e48>"
            ]
          },
          "metadata": {
            "tags": []
          },
          "execution_count": 41
        },
        {
          "output_type": "display_data",
          "data": {
            "image/png": "[encoded data removed]",
            "text/plain": [
              "<Figure size 360x432 with 1 Axes>"
            ]
          },
          "metadata": {
            "tags": []
          }
        }
      ]
    },
    {
      "cell_type": "code",
      "metadata": {
        "id": "0mHSztoJwv9b",
        "colab_type": "code",
        "outputId": "eb7d8816-5ea6-481c-9f3c-7eace0b3473d",
        "colab": {
          "base_uri": "https://localhost:8080/",
          "height": 51
        }
      },
      "source": [
        "print ('Missing data in each Income dataframe column:')\n",
        "for c in train_copy.columns:\n",
        "    missing_data = len(train_copy) - train_copy[c].count()\n",
        "    if (missing_data > 0 or missing_data =='NaN'):\n",
        "        print (c, ':', missing_data, 'missing values is', str(round(float(missing_data / float(len(train_copy))) *  100, 2)), '% of total')\n",
        "\n",
        "train_copy['Year of Record'] = train_copy['Year of Record'].fillna(train_copy['Year of Record'].mean())"
      ],
      "execution_count": 0,
      "outputs": [
        {
          "output_type": "stream",
          "text": [
            "Missing data in each Income dataframe column:\n",
            "Hair Color : 70211 missing values is 6.7 % of total\n"
          ],
          "name": "stdout"
        }
      ]
    },
    {
      "cell_type": "code",
      "metadata": {
        "id": "Ro_x7oA7OaRa",
        "colab_type": "code",
        "outputId": "410ddc42-ce5e-403d-8326-929f72d4d595",
        "colab": {
          "base_uri": "https://localhost:8080/",
          "height": 68
        }
      },
      "source": [
        "print ('Missing data in each Income dataframe column:')\n",
        "for c in test_copy.columns:\n",
        "    missing_data = len(test_copy) - test_copy[c].count()\n",
        "    if (missing_data > 0 or missing_data =='NaN'):\n",
        "        print (c, ':', missing_data, 'missing values is', str(round(float(missing_data / float(len(test_copy))) *  100, 2)), '% of total')"
      ],
      "execution_count": 0,
      "outputs": [
        {
          "output_type": "stream",
          "text": [
            "Missing data in each Income dataframe column:\n",
            "Hair Color : 24651 missing values is 6.67 % of total\n",
            "Total Yearly Income [EUR] : 369438 missing values is 100.0 % of total\n"
          ],
          "name": "stdout"
        }
      ]
    },
    {
      "cell_type": "code",
      "metadata": {
        "id": "__AmgZCBfzpK",
        "colab_type": "code",
        "outputId": "9ff4df8f-755e-4abc-eafd-29be890b2fd6",
        "colab": {
          "base_uri": "https://localhost:8080/",
          "height": 272
        }
      },
      "source": [
        "!pip install --upgrade category_encoders"
      ],
      "execution_count": 0,
      "outputs": [
        {
          "output_type": "stream",
          "text": [
            "Collecting category_encoders\n",
            "\u001b[?25l  Downloading https://files.pythonhosted.org/packages/a0/52/c54191ad3782de633ea3d6ee3bb2837bda0cf3bc97644bb6375cf14150a0/category_encoders-2.1.0-py2.py3-none-any.whl (100kB)\n",
            "\r\u001b[K     |███▎                            | 10kB 13.6MB/s eta 0:00:01\r\u001b[K     |██████▌                         | 20kB 2.2MB/s eta 0:00:01\r\u001b[K     |█████████▉                      | 30kB 3.2MB/s eta 0:00:01\r\u001b[K     |█████████████                   | 40kB 2.1MB/s eta 0:00:01\r\u001b[K     |████████████████▍               | 51kB 2.6MB/s eta 0:00:01\r\u001b[K     |███████████████████▋            | 61kB 3.0MB/s eta 0:00:01\r\u001b[K     |██████████████████████▉         | 71kB 3.5MB/s eta 0:00:01\r\u001b[K     |██████████████████████████▏     | 81kB 4.0MB/s eta 0:00:01\r\u001b[K     |█████████████████████████████▍  | 92kB 4.5MB/s eta 0:00:01\r\u001b[K     |████████████████████████████████| 102kB 2.8MB/s \n",
            "\u001b[?25hRequirement already satisfied, skipping upgrade: statsmodels>=0.6.1 in /usr/local/lib/python3.6/dist-packages (from category_encoders) (0.10.1)\n",
            "Requirement already satisfied, skipping upgrade: numpy>=1.11.3 in /usr/local/lib/python3.6/dist-packages (from category_encoders) (1.17.3)\n",
            "Requirement already satisfied, skipping upgrade: scikit-learn>=0.20.0 in /usr/local/lib/python3.6/dist-packages (from category_encoders) (0.21.3)\n",
            "Requirement already satisfied, skipping upgrade: patsy>=0.4.1 in /usr/local/lib/python3.6/dist-packages (from category_encoders) (0.5.1)\n",
            "Requirement already satisfied, skipping upgrade: scipy>=0.19.0 in /usr/local/lib/python3.6/dist-packages (from category_encoders) (1.3.1)\n",
            "Requirement already satisfied, skipping upgrade: pandas>=0.21.1 in /usr/local/lib/python3.6/dist-packages (from category_encoders) (0.25.3)\n",
            "Requirement already satisfied, skipping upgrade: joblib>=0.11 in /usr/local/lib/python3.6/dist-packages (from scikit-learn>=0.20.0->category_encoders) (0.14.0)\n",
            "Requirement already satisfied, skipping upgrade: six in /usr/local/lib/python3.6/dist-packages (from patsy>=0.4.1->category_encoders) (1.12.0)\n",
            "Requirement already satisfied, skipping upgrade: pytz>=2017.2 in /usr/local/lib/python3.6/dist-packages (from pandas>=0.21.1->category_encoders) (2018.9)\n",
            "Requirement already satisfied, skipping upgrade: python-dateutil>=2.6.1 in /usr/local/lib/python3.6/dist-packages (from pandas>=0.21.1->category_encoders) (2.6.1)\n",
            "Installing collected packages: category-encoders\n",
            "Successfully installed category-encoders-2.1.0\n"
          ],
          "name": "stdout"
        }
      ]
    },
    {
      "cell_type": "code",
      "metadata": {
        "id": "FFty4DxvPT5u",
        "colab_type": "code",
        "colab": {}
      },
      "source": [
        "## Frequency encoding on below 2 columns\n",
        "\n",
        "train_cat = train_copy.copy()\n",
        "for c in ['Country', 'Profession']:\n",
        "    train_copy[c] = train_copy.groupby(c).transform('count')/len(train_copy[c])\n",
        "\n",
        "test_cat = test_copy.copy()\n",
        "for c in ['Country', 'Profession']:\n",
        "    test_copy[c] = test_copy.groupby(c).transform('count')/len(test_copy[c])"
      ],
      "execution_count": 0,
      "outputs": []
    },
    {
      "cell_type": "code",
      "metadata": {
        "id": "qRE9-ksEeCqZ",
        "colab_type": "code",
        "colab": {}
      },
      "source": [
        "## Label encoding on ordinal data\n",
        "\n",
        "housing_ord_map = {'unknown': 0, 'Small Apartment': 1, 'Medium Apartment': 2, 'Large Apartment': 3, 'Small House': 4, 'Medium House': 5, 'Large House':6, 'Castle':7 }\n",
        "train_copy['HousingLabel'] = train_copy['Housing Situation'].map(housing_ord_map)\n",
        "test_copy['HousingLabel'] = test_copy['Housing Situation'].map(housing_ord_map)\n",
        "\n",
        "train_copy['Satisfation with employer'].value_counts()\n",
        "Satisfaction_ord_map = {'unknown': 0, 'Unhappy': 1, 'Somewhat Happy': 2, 'Average': 3, 'Happy': 4}\n",
        "train_copy['SatisfactionLabel'] = train_copy['Satisfation with employer'].map(Satisfaction_ord_map)\n",
        "test_copy['SatisfactionLabel'] = test_copy['Satisfation with employer'].map(Satisfaction_ord_map)\n",
        "\n",
        "train_copy['University Degree'].value_counts()\n",
        "Degree_ord_map = {'No': 0, 'unknown': 1, 'Bachelor': 2, 'Master': 3, 'PhD': 4}\n",
        "train_copy['DegreeLabel'] = train_copy['University Degree'].map(Degree_ord_map)\n",
        "test_copy['DegreeLabel'] = test_copy['University Degree'].map(Degree_ord_map)\n",
        "\n",
        "## One hot coding on gender column\n",
        "gender_copy = pd.get_dummies(train_copy['Gender'])\n",
        "gender_test = pd.get_dummies(test_copy['Gender'])\n",
        "\n",
        "train_merge =pd.concat([train_copy, gender_copy], axis=1)\n",
        "train_merge = train_merge.drop(columns = ['Instance','Housing Situation','Satisfation with employer','Gender','University Degree','Total Yearly Income [EUR]','Wears Glasses', 'Hair Color'])\n",
        "# with count encoding\n",
        "#train_merge =pd.concat([train_cat, gender_copy], axis=1)\n",
        "#train_merge = train_merge.drop(columns = ['Instance','Housing Situation','Satisfation with employer','Gender','University Degree','Total Yearly Income [EUR]','Wears Glasses', 'Hair Color'])\n",
        "\n",
        "## Since income varies a lot, take its log\n",
        "yt = np.log(train_copy['Total Yearly Income [EUR]'])\n",
        "\n",
        "test_merge =pd.concat([test_copy, gender_test], axis=1)\n",
        "test_merge = test_merge.drop(columns = ['Instance','Housing Situation','Satisfation with employer','Gender','University Degree','Total Yearly Income [EUR]','Wears Glasses', 'Hair Color'])\n"
      ],
      "execution_count": 0,
      "outputs": []
    },
    {
      "cell_type": "code",
      "metadata": {
        "id": "SStmA6kMjoNA",
        "colab_type": "code",
        "colab": {}
      },
      "source": [
        "## Lets do some interactions among features.\n",
        "from sklearn.preprocessing import StandardScaler\n",
        "from sklearn.model_selection import train_test_split\n",
        "from itertools import combinations\n",
        "from sklearn.preprocessing import PolynomialFeatures\n",
        "\n",
        "def add_interactions(df):\n",
        "    combos = list(combinations(list(df.columns),2))\n",
        "    colnames = list(df.columns) + ['_'.join(x) for x in combos]\n",
        "    poly = PolynomialFeatures(interaction_only=True, include_bias =False, degree=2)\n",
        "    df = poly.fit_transform(df)\n",
        "    df = pd.DataFrame(df)\n",
        "    df.columns = colnames\n",
        "    noint_indices = [i for i, x in enumerate(list((df==0).all())) if x]\n",
        "    df= df.drop(df.columns[noint_indices], axis=1)\n",
        "\n",
        "    return df \n",
        "\n",
        "\n",
        "Interaction_merge =train_merge[['Year of Record', 'Crime Level in the City of Employement','Work Experience in Current Job [years]', 'Age','Size of City','Body Height [cm]',\n",
        "       'Yearly Income in addition to Salary (e.g. Rental Income)']]\n",
        "X = add_interactions(Interaction_merge)\n",
        "\n",
        "new_df = train_merge.drop(columns = ['Year of Record', 'Crime Level in the City of Employement','Work Experience in Current Job [years]', 'Age','Size of City','Body Height [cm]',\n",
        "       'Yearly Income in addition to Salary (e.g. Rental Income)'])\n",
        "Train_features = pd.concat([X, new_df], axis=1)\n",
        "Xtrain, Xtest, Ytrain, Ytest = train_test_split(Train_features, yt, test_size=0.20, random_state = 7)\n",
        "\n",
        "scaler = StandardScaler().fit(Xtrain)\n",
        "rescaled_X_train = scaler.transform(Xtrain)\n",
        "\n",
        "rescaled_X_test = scaler.transform(Xtest)"
      ],
      "execution_count": 0,
      "outputs": []
    },
    {
      "cell_type": "code",
      "metadata": {
        "id": "MLrKN51KZ3uI",
        "colab_type": "code",
        "outputId": "baa8f582-5f21-495d-96c1-ae49805ce449",
        "colab": {
          "base_uri": "https://localhost:8080/",
          "height": 102
        }
      },
      "source": [
        "# checking xgb \n",
        "# XGB gaves us pretty much good results. I just selected n_estimators by hit and trial method\n",
        "\n",
        "from xgboost import XGBRegressor\n",
        "import xgboost\n",
        "from sklearn.metrics import r2_score\n",
        "from sklearn.metrics import mean_absolute_error\n",
        "\n",
        "model = xgboost.XGBRegressor(colsample_bytree=0.4603, gamma=0.0468, \n",
        "                             learning_rate=0.05, max_depth=3, \n",
        "                             min_child_weight=1.7817, n_estimators=3200,\n",
        "                             reg_alpha=0.4640, reg_lambda=0.8571,\n",
        "                             subsample=0.5213, silent=1,\n",
        "                             random_state =7, nthread = -1)\n",
        "## 3200 not yet uploaded\n",
        "xgb = model.fit(rescaled_X_train, Ytrain, early_stopping_rounds=5, \n",
        "             eval_set=[(rescaled_X_test, Ytest)], verbose=False)\n",
        "\n",
        "y_pred = xgb.predict(rescaled_X_test)\n",
        "\n",
        "print('The accuracy of the XGB Regression is',r2_score(Ytest,y_pred))\n",
        "print ('MAE is: \\n', (mean_absolute_error(Ytest, y_pred)))"
      ],
      "execution_count": 0,
      "outputs": [
        {
          "output_type": "stream",
          "text": [
            "/usr/local/lib/python3.6/dist-packages/xgboost/core.py:587: FutureWarning: Series.base is deprecated and will be removed in a future version\n",
            "  if getattr(data, 'base', None) is not None and \\\n"
          ],
          "name": "stderr"
        },
        {
          "output_type": "stream",
          "text": [
            "The accuracy of the XGB Regression is 0.9846275475953683\n",
            "MAE is: \n",
            " 0.14871372806162497\n"
          ],
          "name": "stdout"
        }
      ]
    },
    {
      "cell_type": "code",
      "metadata": {
        "id": "lWDZaZQ_llSd",
        "colab_type": "code",
        "outputId": "3b7bbf48-8ad0-4f3a-d3cf-9ff8c144260f",
        "colab": {
          "base_uri": "https://localhost:8080/",
          "height": 34
        }
      },
      "source": [
        "## Lets do prediciton on test data\n",
        "Interaction_test_merge =test_merge[['Year of Record', 'Crime Level in the City of Employement','Work Experience in Current Job [years]', 'Age','Size of City','Body Height [cm]',\n",
        "       'Yearly Income in addition to Salary (e.g. Rental Income)']]\n",
        "X_test = add_interactions(Interaction_test_merge)\n",
        "test_feature_df = test_merge.drop(columns = ['Year of Record', 'Crime Level in the City of Employement','Work Experience in Current Job [years]', 'Age','Size of City','Body Height [cm]',\n",
        "       'Yearly Income in addition to Salary (e.g. Rental Income)'])\n",
        "Test_features = pd.concat([X_test, test_feature_df], axis=1)\n",
        "\n",
        "#test_new = Test_features[Train_features.columns[chiselector.get_support()]]\n",
        "X_test_new = scaler.transform(Test_features)\n",
        "predictions = xgb.predict(X_test_new)\n",
        "\n",
        "actual_predictions = np.exp(predictions)\n",
        "actual_predictions.max()"
      ],
      "execution_count": 0,
      "outputs": [
        {
          "output_type": "execute_result",
          "data": {
            "text/plain": [
              "2452454.0"
            ]
          },
          "metadata": {
            "tags": []
          },
          "execution_count": 20
        }
      ]
    },
    {
      "cell_type": "markdown",
      "metadata": {
        "id": "BQdsq3R3KO9L",
        "colab_type": "text"
      },
      "source": [
        "Lets apply Catboost and parameters, iterations are chosen by hit and trial method, Other iterations I have taken it out from code"
      ]
    },
    {
      "cell_type": "code",
      "metadata": {
        "id": "Wh7vYF2dkJEL",
        "colab_type": "code",
        "outputId": "e526587a-6a6d-43ab-c7dc-930ccd0ff9ab",
        "colab": {
          "base_uri": "https://localhost:8080/",
          "height": 340
        }
      },
      "source": [
        "!pip install catboost"
      ],
      "execution_count": 0,
      "outputs": [
        {
          "output_type": "stream",
          "text": [
            "Collecting catboost\n",
            "\u001b[?25l  Downloading https://files.pythonhosted.org/packages/bf/8f/8b75806399bd4eb3125cb6aa0bad73e279648770e7bb4dee441b24acb959/catboost-0.19.1-cp36-none-manylinux1_x86_64.whl (63.0MB)\n",
            "\u001b[K     |████████████████████████████████| 63.0MB 1.6MB/s \n",
            "\u001b[?25hRequirement already satisfied: six in /usr/local/lib/python3.6/dist-packages (from catboost) (1.12.0)\n",
            "Requirement already satisfied: plotly in /usr/local/lib/python3.6/dist-packages (from catboost) (4.1.1)\n",
            "Requirement already satisfied: numpy>=1.16.0 in /usr/local/lib/python3.6/dist-packages (from catboost) (1.17.4)\n",
            "Requirement already satisfied: scipy in /usr/local/lib/python3.6/dist-packages (from catboost) (1.3.2)\n",
            "Requirement already satisfied: pandas>=0.24.0 in /usr/local/lib/python3.6/dist-packages (from catboost) (0.25.3)\n",
            "Requirement already satisfied: graphviz in /usr/local/lib/python3.6/dist-packages (from catboost) (0.10.1)\n",
            "Requirement already satisfied: matplotlib in /usr/local/lib/python3.6/dist-packages (from catboost) (3.1.1)\n",
            "Requirement already satisfied: retrying>=1.3.3 in /usr/local/lib/python3.6/dist-packages (from plotly->catboost) (1.3.3)\n",
            "Requirement already satisfied: python-dateutil>=2.6.1 in /usr/local/lib/python3.6/dist-packages (from pandas>=0.24.0->catboost) (2.6.1)\n",
            "Requirement already satisfied: pytz>=2017.2 in /usr/local/lib/python3.6/dist-packages (from pandas>=0.24.0->catboost) (2018.9)\n",
            "Requirement already satisfied: pyparsing!=2.0.4,!=2.1.2,!=2.1.6,>=2.0.1 in /usr/local/lib/python3.6/dist-packages (from matplotlib->catboost) (2.4.5)\n",
            "Requirement already satisfied: cycler>=0.10 in /usr/local/lib/python3.6/dist-packages (from matplotlib->catboost) (0.10.0)\n",
            "Requirement already satisfied: kiwisolver>=1.0.1 in /usr/local/lib/python3.6/dist-packages (from matplotlib->catboost) (1.1.0)\n",
            "Requirement already satisfied: setuptools in /usr/local/lib/python3.6/dist-packages (from kiwisolver>=1.0.1->matplotlib->catboost) (41.6.0)\n",
            "Installing collected packages: catboost\n",
            "Successfully installed catboost-0.19.1\n"
          ],
          "name": "stdout"
        }
      ]
    },
    {
      "cell_type": "code",
      "metadata": {
        "id": "cU02YyaTf2bz",
        "colab_type": "code",
        "outputId": "b81e0a22-4ef9-49e5-ee95-fe4a11fa2e5a",
        "colab": {
          "base_uri": "https://localhost:8080/",
          "height": 68
        }
      },
      "source": [
        "from catboost import CatBoostRegressor, FeaturesData, Pool\n",
        "from sklearn.metrics import r2_score\n",
        "from sklearn.metrics import mean_absolute_error\n",
        "\n",
        "cb = CatBoostRegressor(iterations=16000, learning_rate=0.01, depth=10, eval_metric ='MAE', bagging_temperature = 0.2)\n",
        "\n",
        "cb.fit(rescaled_X_train, Ytrain, eval_set=[(rescaled_X_test, Ytest)], verbose=False, use_best_model=True)\n",
        "y_pred = cb.predict(rescaled_X_test)\n",
        "\n",
        "print('The accuracy of the XGB Regression is',r2_score(Ytest,y_pred))\n",
        "print ('MAE is: \\n', (mean_absolute_error(Ytest, y_pred)))"
      ],
      "execution_count": 0,
      "outputs": [
        {
          "output_type": "stream",
          "text": [
            "The accuracy of the XGB Regression is 0.989878334610368\n",
            "MAE is: \n",
            " 0.11606056665664698\n"
          ],
          "name": "stdout"
        }
      ]
    },
    {
      "cell_type": "code",
      "metadata": {
        "id": "KDFip8EY2k1Q",
        "colab_type": "code",
        "outputId": "e9344fe1-16c7-428f-fc19-1cfacb98d8c4",
        "colab": {
          "base_uri": "https://localhost:8080/",
          "height": 51
        }
      },
      "source": [
        "print ('MAE is: \\n', (mean_absolute_error(np.exp(Ytest), np.exp(y_pred))))"
      ],
      "execution_count": 0,
      "outputs": [
        {
          "output_type": "stream",
          "text": [
            "MAE is: \n",
            " 8210.103648418317\n"
          ],
          "name": "stdout"
        }
      ]
    },
    {
      "cell_type": "code",
      "metadata": {
        "id": "HUWTBzG2-Fzc",
        "colab_type": "code",
        "outputId": "38bdd97f-9f71-48f1-aaf9-d3b278a54eae",
        "colab": {
          "base_uri": "https://localhost:8080/",
          "height": 34
        }
      },
      "source": [
        "rescaled_X_test.shape"
      ],
      "execution_count": 0,
      "outputs": [
        {
          "output_type": "execute_result",
          "data": {
            "text/plain": [
              "(209715, 36)"
            ]
          },
          "metadata": {
            "tags": []
          },
          "execution_count": 11
        }
      ]
    },
    {
      "cell_type": "code",
      "metadata": {
        "id": "MmfXz33b9882",
        "colab_type": "code",
        "outputId": "c52e5e42-89b8-4036-bad9-95dd7916e1de",
        "colab": {
          "base_uri": "https://localhost:8080/",
          "height": 68
        }
      },
      "source": [
        "from catboost import CatBoostRegressor, FeaturesData, Pool\n",
        "from sklearn.metrics import r2_score\n",
        "from sklearn.metrics import mean_absolute_error\n",
        "\n",
        "cb = CatBoostRegressor(iterations=32000, learning_rate=0.01, depth=10, eval_metric ='MAE', bagging_temperature = 0.2)\n",
        "\n",
        "cb.fit(rescaled_X_train, Ytrain, eval_set=[(rescaled_X_test, Ytest)], verbose=False, use_best_model=True)\n",
        "y_pred = cb.predict(rescaled_X_test)\n",
        "\n",
        "print('The accuracy of the XGB Regression is',r2_score(Ytest,y_pred))\n",
        "print ('MAE is: \\n', (mean_absolute_error(Ytest, y_pred)))"
      ],
      "execution_count": 0,
      "outputs": [
        {
          "output_type": "stream",
          "text": [
            "The accuracy of the XGB Regression is 0.990068190662681\n",
            "MAE is: \n",
            " 0.11356116421374232\n"
          ],
          "name": "stdout"
        }
      ]
    },
    {
      "cell_type": "code",
      "metadata": {
        "id": "2AvOb1fM9XbY",
        "colab_type": "code",
        "outputId": "ab4db0b2-20fd-4c36-a088-7592de0b2076",
        "colab": {
          "base_uri": "https://localhost:8080/",
          "height": 51
        }
      },
      "source": [
        "print ('MAE is: \\n', (mean_absolute_error(np.exp(Ytest), np.exp(y_pred))))\n",
        "\n",
        "## we got pretty much good results from CatBoost"
      ],
      "execution_count": 0,
      "outputs": [
        {
          "output_type": "stream",
          "text": [
            "MAE is: \n",
            " 8107.391045507938\n"
          ],
          "name": "stdout"
        }
      ]
    },
    {
      "cell_type": "code",
      "metadata": {
        "id": "iu6wUW4c1Pm3",
        "colab_type": "code",
        "outputId": "4de256af-5127-400c-b063-ebcc7beef6d6",
        "colab": {
          "base_uri": "https://localhost:8080/",
          "height": 34
        }
      },
      "source": [
        "## Below predictions were done on 16k iterations as 32k iterations gave me same results\n",
        "Interaction_test_merge =test_merge[['Year of Record', 'Crime Level in the City of Employement','Work Experience in Current Job [years]', 'Age','Size of City','Body Height [cm]',\n",
        "       'Yearly Income in addition to Salary (e.g. Rental Income)']]\n",
        "X_test = add_interactions(Interaction_test_merge)\n",
        "test_feature_df = test_merge.drop(columns = ['Year of Record', 'Crime Level in the City of Employement','Work Experience in Current Job [years]', 'Age','Size of City','Body Height [cm]',\n",
        "       'Yearly Income in addition to Salary (e.g. Rental Income)'])\n",
        "Test_features = pd.concat([X_test, test_feature_df], axis=1)\n",
        "\n",
        "\n",
        "X_test_new = scaler.transform(Test_features)\n",
        "predictions = cb.predict(X_test_new)\n",
        "\n",
        "actual_predictions = np.exp(predictions)\n",
        "actual_predictions.max()"
      ],
      "execution_count": 0,
      "outputs": [
        {
          "output_type": "execute_result",
          "data": {
            "text/plain": [
              "3221027.1135595758"
            ]
          },
          "metadata": {
            "tags": []
          },
          "execution_count": 12
        }
      ]
    },
    {
      "cell_type": "markdown",
      "metadata": {
        "id": "pXxiAioeLc9j",
        "colab_type": "text"
      },
      "source": [
        "I did apply RandomForest regressor as well in order to improve accuracy but didn't use it for final predictiosn. It can be ignores. Again hyper parameters were chosen from hit and trial method"
      ]
    },
    {
      "cell_type": "code",
      "metadata": {
        "id": "THUED_hpRQ2Q",
        "colab_type": "code",
        "outputId": "21feaedc-f126-4d65-c604-40c6bff73835",
        "colab": {
          "base_uri": "https://localhost:8080/",
          "height": 68
        }
      },
      "source": [
        "from sklearn.ensemble import RandomForestRegressor\n",
        "from sklearn.metrics import r2_score\n",
        "from sklearn.metrics import mean_absolute_error\n",
        "rgb = RandomForestRegressor(bootstrap=True, criterion='mse', max_depth=None,\n",
        "                      max_features='auto', max_leaf_nodes=None,\n",
        "                      min_impurity_decrease=0.0, min_impurity_split=None,\n",
        "                      min_samples_leaf=1, min_samples_split=2,\n",
        "                      min_weight_fraction_leaf=0.0, n_estimators=200,\n",
        "                      n_jobs=None, oob_score=False, random_state=None,\n",
        "                      verbose=0, warm_start=False)\n",
        "\n",
        "rgb.fit(rescaled_X_train, Ytrain)\n",
        "y_pred = rgb.predict(rescaled_X_test)\n",
        "\n",
        "print('The accuracy of the Random  forest Regression is',r2_score(Ytest,y_pred))\n",
        "print ('MAE is: \\n', (mean_absolute_error(Ytest, y_pred)))"
      ],
      "execution_count": 0,
      "outputs": [
        {
          "output_type": "stream",
          "text": [
            "The accuracy of the Random  forest Regression is 0.9877409303954264\n",
            "MAE is: \n",
            " 0.12282739609752154\n"
          ],
          "name": "stdout"
        }
      ]
    },
    {
      "cell_type": "code",
      "metadata": {
        "id": "GoF_H0mTk0tC",
        "colab_type": "code",
        "colab": {}
      },
      "source": [
        "##below block for best features\n",
        "\n",
        "from sklearn.feature_selection import  f_regression\n",
        "from sklearn.feature_selection import SelectKBest \n",
        "\n",
        "chiselector = SelectKBest(f_regression, k=50)\n",
        "X_best = chiselector.fit_transform(Train_features, yt)\n",
        "\n",
        "train_new = Train_features[Train_features.columns[chiselector.get_support()]]\n",
        "\n",
        "Xtrain, Xtest, Ytrain, Ytest = train_test_split(train_new, yt, test_size=0.20, random_state = 7)\n",
        "\n",
        "scaler = StandardScaler().fit(Xtrain)\n",
        "rescaled_X_train = scaler.transform(Xtrain)\n",
        "\n",
        "rescaled_X_test = scaler.transform(Xtest)\n"
      ],
      "execution_count": 0,
      "outputs": []
    },
    {
      "cell_type": "code",
      "metadata": {
        "id": "QcIDd2rsnXFi",
        "colab_type": "code",
        "outputId": "7f8dc23d-8c23-482e-e15c-c29aeb7d8b9d",
        "colab": {
          "base_uri": "https://localhost:8080/",
          "height": 68
        }
      },
      "source": [
        "from sklearn.ensemble import RandomForestRegressor\n",
        "from sklearn.metrics import r2_score\n",
        "from sklearn.metrics import mean_absolute_error\n",
        "rgb = RandomForestRegressor(bootstrap=True, criterion='mse', max_depth=None,\n",
        "                      max_features='auto', max_leaf_nodes=None,\n",
        "                      min_impurity_decrease=0.0, min_impurity_split=None,\n",
        "                      min_samples_leaf=1, min_samples_split=2,\n",
        "                      min_weight_fraction_leaf=0.0, n_estimators=200,\n",
        "                      n_jobs=None, oob_score=False, random_state=None,\n",
        "                      verbose=0, warm_start=False)\n",
        "\n",
        "rgb.fit(rescaled_X_train, Ytrain)\n",
        "y_pred = rgb.predict(rescaled_X_test)\n",
        "\n",
        "print('The accuracy of the Random  forest Regression is',r2_score(Ytest,y_pred))\n",
        "print ('MAE is: \\n', (mean_absolute_error(Ytest, y_pred)))"
      ],
      "execution_count": 0,
      "outputs": [
        {
          "output_type": "stream",
          "text": [
            "The accuracy of the Random  forest Regression is 0.9872115135711375\n",
            "MAE is: \n",
            " 0.1259235034515482\n"
          ],
          "name": "stdout"
        }
      ]
    },
    {
      "cell_type": "code",
      "metadata": {
        "id": "lyhWOGxw0dU_",
        "colab_type": "code",
        "outputId": "91b850a1-ae08-407b-fdf2-bb9c20082528",
        "colab": {
          "base_uri": "https://localhost:8080/",
          "height": 34
        }
      },
      "source": [
        "## Below predictions were done on best 50 features\n",
        "Interaction_test_merge =test_merge[['Year of Record', 'Crime Level in the City of Employement','Work Experience in Current Job [years]', 'Age','Size of City','Body Height [cm]',\n",
        "       'Yearly Income in addition to Salary (e.g. Rental Income)','HousingLabel', 'SatisfactionLabel', 'DegreeLabel']]\n",
        "X_test = add_interactions(Interaction_test_merge)\n",
        "test_feature_df = test_merge.drop(columns = ['Year of Record', 'Crime Level in the City of Employement','Work Experience in Current Job [years]', 'Age','Size of City','Body Height [cm]',\n",
        "       'Yearly Income in addition to Salary (e.g. Rental Income)', 'HousingLabel', 'SatisfactionLabel', 'DegreeLabel'])\n",
        "Test_features = pd.concat([X_test, test_feature_df], axis=1)\n",
        "\n",
        "test_new = Test_features[Train_features.columns[chiselector.get_support()]]\n",
        "X_test_new = scaler.transform(test_new)\n",
        "predictions = rgb.predict(X_test_new)\n",
        "\n",
        "actual_predictions = np.exp(predictions)\n",
        "actual_predictions.max()\n"
      ],
      "execution_count": 0,
      "outputs": [
        {
          "output_type": "execute_result",
          "data": {
            "text/plain": [
              "1813320.9103791565"
            ]
          },
          "metadata": {
            "tags": []
          },
          "execution_count": 47
        }
      ]
    },
    {
      "cell_type": "code",
      "metadata": {
        "id": "4mzJ7_uAhPJc",
        "colab_type": "code",
        "outputId": "b2bc58a8-9ee9-47c4-d8b1-46b512c2d6b0",
        "colab": {
          "base_uri": "https://localhost:8080/",
          "height": 34
        }
      },
      "source": [
        "## ## Below predictions were done on best 50 features\n",
        "Interaction_test_merge =test_merge[['Year of Record', 'Crime Level in the City of Employement','Work Experience in Current Job [years]', 'Age','Size of City','Body Height [cm]',\n",
        "       'Yearly Income in addition to Salary (e.g. Rental Income)','HousingLabel', 'SatisfactionLabel', 'DegreeLabel']]\n",
        "X_test = add_interactions(Interaction_test_merge)\n",
        "test_feature_df = test_merge.drop(columns = ['Year of Record', 'Crime Level in the City of Employement','Work Experience in Current Job [years]', 'Age','Size of City','Body Height [cm]',\n",
        "       'Yearly Income in addition to Salary (e.g. Rental Income)', 'HousingLabel', 'SatisfactionLabel', 'DegreeLabel'])\n",
        "Test_features = pd.concat([X_test, test_feature_df], axis=1)\n",
        "\n",
        "X_test = scaler.transform(Test_features)\n",
        "predictions = rgb.predict(X_test)\n",
        "\n",
        "actual_predictions = np.exp(predictions)\n",
        "actual_predictions.max()"
      ],
      "execution_count": 0,
      "outputs": [
        {
          "output_type": "execute_result",
          "data": {
            "text/plain": [
              "1768348.8893154494"
            ]
          },
          "metadata": {
            "tags": []
          },
          "execution_count": 14
        }
      ]
    },
    {
      "cell_type": "code",
      "metadata": {
        "id": "NM1CbfpbhqOz",
        "colab_type": "code",
        "outputId": "ca47d748-a47f-413a-bd01-a497236247b7",
        "colab": {
          "base_uri": "https://localhost:8080/",
          "height": 34
        }
      },
      "source": [
        "# submission was done finally on Catboost regressor.\n",
        "submissions =pd.DataFrame({'Instance': test_df['Instance'], 'Total Yearly Income [EUR]': actual_predictions}, columns =['Instance','Total Yearly Income [EUR]'])\n",
        "filename ='tcd ml 2019-20 income prediction submission file.csv'\n",
        "submissions.to_csv(filename, index=False)\n",
        "print('Saved File '+ filename)"
      ],
      "execution_count": 0,
      "outputs": [
        {
          "output_type": "stream",
          "text": [
            "Saved File tcd ml 2019-20 income prediction submission file.csv\n"
          ],
          "name": "stdout"
        }
      ]
    }
  ]
}